{
 "cells": [
  {
   "cell_type": "code",
   "execution_count": 1,
   "id": "55b8d648",
   "metadata": {},
   "outputs": [
    {
     "name": "stdout",
     "output_type": "stream",
     "text": [
      "Welcome to the Strong Password Generator!\n",
      "How many passwords would you like to generate? 5\n",
      "Enter the length for each password: 8\n",
      "\n",
      "Generating Passwords:\n",
      "Password 1: -Zw0OU60\n",
      "Password 2: Iya7Y1x4\n",
      "Password 3: 8rG8dS0z\n",
      "Password 4: BH}653%%\n",
      "Password 5: L??A,3$E\n"
     ]
    }
   ],
   "source": [
    "import random\n",
    "import string\n",
    "\n",
    "def generate_password(length):\n",
    "    characters = string.ascii_letters + string.digits + string.punctuation\n",
    "    password = ''.join(random.choice(characters) for _ in range(length))\n",
    "    return password\n",
    "\n",
    "def main():\n",
    "    print(\"Welcome to the Strong Password Generator!\")\n",
    "    while True:\n",
    "        try:\n",
    "            num_passwords = int(input(\"How many passwords would you like to generate? \"))\n",
    "            password_length = int(input(\"Enter the length for each password: \"))\n",
    "            \n",
    "            if num_passwords <= 0 or password_length <= 0:\n",
    "                print(\"Please enter valid values (greater than zero) for number of passwords and length.\")\n",
    "                continue\n",
    "            \n",
    "            print(\"\\nGenerating Passwords:\")\n",
    "            for i in range(num_passwords):\n",
    "                password = generate_password(password_length)\n",
    "                print(f\"Password {i + 1}: {password}\")\n",
    "            \n",
    "            break\n",
    "        except ValueError:\n",
    "            print(\"Please enter valid integers for number of passwords and length.\")\n",
    "\n",
    "if __name__ == \"__main__\":\n",
    "    main()\n"
   ]
  },
  {
   "cell_type": "code",
   "execution_count": null,
   "id": "773b8064",
   "metadata": {},
   "outputs": [],
   "source": []
  }
 ],
 "metadata": {
  "kernelspec": {
   "display_name": "Python 3 (ipykernel)",
   "language": "python",
   "name": "python3"
  },
  "language_info": {
   "codemirror_mode": {
    "name": "ipython",
    "version": 3
   },
   "file_extension": ".py",
   "mimetype": "text/x-python",
   "name": "python",
   "nbconvert_exporter": "python",
   "pygments_lexer": "ipython3",
   "version": "3.11.3"
  }
 },
 "nbformat": 4,
 "nbformat_minor": 5
}
